{
  "nbformat": 4,
  "nbformat_minor": 0,
  "metadata": {
    "kernelspec": {
      "display_name": "Python 3",
      "language": "python",
      "name": "python3"
    },
    "language_info": {
      "codemirror_mode": {
        "name": "ipython",
        "version": 3
      },
      "file_extension": ".py",
      "mimetype": "text/x-python",
      "name": "python",
      "nbconvert_exporter": "python",
      "pygments_lexer": "ipython3",
      "version": "3.8.2"
    },
    "colab": {
      "provenance": [],
      "collapsed_sections": [
        "-Xvba5tbdYno"
      ],
      "include_colab_link": true
    }
  },
  "cells": [
    {
      "cell_type": "markdown",
      "metadata": {
        "id": "view-in-github",
        "colab_type": "text"
      },
      "source": [
        "<a href=\"https://colab.research.google.com/github/tirenton/01/blob/main/Ittidet_NAMLAO_ch00_intro_basic_tools.ipynb\" target=\"_parent\"><img src=\"https://colab.research.google.com/assets/colab-badge.svg\" alt=\"Open In Colab\"/></a>"
      ]
    },
    {
      "cell_type": "markdown",
      "metadata": {
        "id": "FCOsPxmI_hmB"
      },
      "source": [
        "# แนะนำไลบรารีและชุดเครื่องมือ\n",
        "\n",
        "*(ดัดแปลงจากโน้ตบุ๊คต้นฉบับโดย ผศ.ดร.จิตร์ทัศน์ ฝักเจริญผล ภาคต้น ปีการศึกษา 2563)*\n",
        "\n",
        "โน้ตบุ๊คนี้แสดงตัวอย่างการใช้งานไลบรารี Component Builder ที่พัฒนาขึ้นมาเพื่อใช้ศึกษาการออกแบบหน่วยประมวลผลและระบบคอมพิวเตอร์ รวมทั้งมีตัวอย่างให้ทดลองใช้ไลบรารีและเครื่องมือที่เกี่ยวข้องในการทำแบบฝึกหัด\n",
        "\n"
      ]
    },
    {
      "cell_type": "markdown",
      "metadata": {
        "id": "HgggvQKB_hmE"
      },
      "source": [
        "ขั้นแรก เราต้อง `import` เครื่องมือของเราก่อน การ `import` นี้อาจจะเปลี่ยนไปแล้วแต่บทที่เรียน ซึ่งทางผู้สอนจะเตรียมคำสั่งไว้ให้แล้วในโน้ตบุ๊คแต่ละบท"
      ]
    },
    {
      "cell_type": "code",
      "source": [
        "%%capture\n",
        "!rm -rf comp-sys-public-lib\n",
        "!wget -q -O - https://ecourse.cpe.ku.ac.th/courses/comsys/lib/ch00.tgz | tar zxf -\n",
        "!pip install -e comp-sys-public-lib\n",
        "!pip install -e comp-sys-public-lib/modules/component-builder\n",
        "import site; site.main()\n",
        "from course_ch00_init import *"
      ],
      "metadata": {
        "id": "jJHpq7vuSqhj"
      },
      "execution_count": 7,
      "outputs": []
    },
    {
      "cell_type": "markdown",
      "metadata": {
        "id": "FUVxCF76_hmR"
      },
      "source": [
        "# NAND Gate\n",
        "\n",
        "เราเตรียม NAND gate ให้เพื่อใช้เป็นเกทพื้นฐานในการสร้างเกทและวงจรอื่นต่อไป สายสัญญาณของเกทดังกล่าวแสดงดังรูปด้านล่าง\n",
        "\n",
        "![image.png](data:image/png;base64,iVBORw0KGgoAAAANSUhEUgAAAH0AAAAoCAYAAADTw/VhAAAFPUlEQVR4Ae2caah2UxTHf2QeMhO+oJAp8knJkFKUfCGJzGNKpkLGkESZP0jInCFTFCGKEpmlzGSeM89zP+/eb6vduc9773vPec55znNWPZ1p3bP3Xv+911p7rXUudI/uA/6t+fcr8DXwInA7cAKwDbBE94Y/nT1qAvSZJtE7wFnAWtMp6u6MOoL+EfBuDb8PgB9GaI+fgIuAlbsjhunqSQR9y5qHvgawY1rdqvpSA3wM7F5zm8PrZiGBJkEvm9eua+P/DhPgH+D8wd6Xomr2epyg55FsB7wagFcD3AQslRmGY7MSaAN0R7R8Ajqq/Bv6uuI3A24GngSeBu4AdmoW15Fvbwt0O+UW7uJixZ85srcT+nAX4FrgCGAf4Crgd2CrlsbTJuh5yNcH4P9qeRHkPjV+fAs4rqKVR4Mwohps6rxu771iSJW3lgFeCGNVHstWck7ozeWAE4FHgM8BZ7Ygnl0xnmkB3aFvAfwRgD+lQh4Te+tW4EPgIGBjYMVk26tAH8cgu6De8zivCKB/CayQH0z68WfgkGIQOnQD6LB+sdr1e3pBbwK3ACsB6yVV70QYQF8A751htbvD6QXtCnyTBqY9vw14bQB9IbZ7BdCN1k1icuYVYI+FI0on2nG3aMam26Yu2XRlsUpwbnVw9wY2TNvcT5L617s/J2nLtuVX1f73wL5VD7pyr2ugK5cYonUP/21Y/XG7Kp+TpE7aHrgfeBt4vML/uhow1hLpgjQ5vWf20F2Ifpqmyl/nqIug3xVAdtUI9N3ApsDSwA5hYjgp6qJtgd+AS4CdgWMB08BHhwbUNoeFa0+fDeZZ82QRyTXAkelXsLd/2UXQLw2gC/hLCeworQ2AHxPfRvHBPM7dThs/iXQ6YJ1BpkWBLt+g3rO05nA8twD9+Bn+9p6CL6r+uZwfk97/MlDG/q0H8F2rJZ4B9BnAmO/t8wowrbGronsLvrkAHXkz6G8ApxYNmQaWd910fwC9EFBdl5cXYGozy1y7MY6s3vXu66AHAFV8pKOSus5Fndb5nRQZCpvuI4tCDyx4OnXZRZseV/AvaQI8CGwOmJzRe3ZVugJV8XWRTpiet9tEJ5mO3fvAZaEB+6YZsC9WAl2ZtpgxuPYMIN86iS/8eTdOuwh6BlRQbwQ+K1Z+Vs3PAWvWLEaTYTpilnT9CVwHmCTLZD2ExaP2wUjqhcBTwMmZIaWGP008ev+cBhwcGNo+7RroawNG4jKwrjqDWNYdWEhp7cHrgFm4UuXXJUu3hZqMmap1VfWal0W1vyqwpJ16qFAXdXV0cd/TNdAPDYC72upeyYsrp3n93QD6aPE9FkDvTcJF0DX+bhO0BQ7s8NFyaPRpl1a6jlFU7b1JrQq6HuLDKa3q9kQ1tl+j0M788i6B7pYp2/Iv+lREIeh6hJEslNTNL2mayqX2DIALfPSGS7lM3HWVTbeSxkxSSdMCup6w5VF5lfeuMLIK9P2Tyi9BH8d12+rdCqLnA+AWlhjv7hVVgW4+1mqLNqhN0M2FPxEAd6Wf0YYQmm5T0E3Sr5427oYUVe1txWrbAt3ceCyWEHBz4znG3TQOY32/oL+XEu168aozv9r8P3Iz1p4saGzcoBvFMlWakyXZjk/FB4zWyVngr01rk8YFuvFrw88xri7gbldNpfZyhbcJ7Ki2mwLd+PUmwAGAX6N+V9huAbciZbdRnRueNSOBCHpd/37kq5Shyqq7PJp5MjvVtpZrRqIT8NYIeglO3dfuvy1HmsRa9gmAcvZdbAJ0Cx8Mtvglqh9z6LhtPfsu9YvzP95EtY4+gyJrAAAAAElFTkSuQmCC)\n",
        "\n",
        "ในการใช้งานเราสามารถสร้างอ็อปเจ็กต์ของเกตดังกล่าวจากคลาส `Nand` ด้วยการเรียก `Nand()` แล้วนำมาสั่งให้ประมวลผลได้ ดังตัวอย่าง"
      ]
    },
    {
      "cell_type": "code",
      "metadata": {
        "id": "ylsYs5lg_hmS",
        "colab": {
          "base_uri": "https://localhost:8080/"
        },
        "outputId": "d2ae59cc-6748-4bf1-fbba-cc6009fe01bb"
      },
      "source": [
        "nand = Nand()\n",
        "nand.eval(a=T, b=F)"
      ],
      "execution_count": 2,
      "outputs": [
        {
          "output_type": "execute_result",
          "data": {
            "text/plain": [
              "{'out': 1}"
            ]
          },
          "metadata": {},
          "execution_count": 2
        }
      ]
    },
    {
      "cell_type": "markdown",
      "metadata": {
        "id": "TZzl-8HM_hmc"
      },
      "source": [
        "ในโมดูลที่อิมพอร์ตมานั้นมีการนิยามชื่อ `T` และ `F` ให้หมายถึงค่าสัญญาณดิจิทัลหนึ่งบิตที่มีลอจิก 1 และ 0 ตามลำดับ\n",
        "ให้ทดลองเปลี่ยนอินพุทของเกทเป็นค่าต่าง ๆ ในโค้ดด้านบนเพื่อดูผลลัพธ์"
      ]
    },
    {
      "cell_type": "markdown",
      "metadata": {
        "id": "l22T-ypK_hme"
      },
      "source": [
        "# การติดตามสัญญาณ (Tracing)\n",
        "\n",
        "เราสามารถติดตามค่าสัญญาณอินพุทและเอาท์พุทของเกตเพื่อนำมาตรวจสอบได้ เรียกว่าการทำ tracing ซึ่งทำได้โดยใช้ฟังก์ชัน `trace` ที่เตรียมเอาไว้ให้ โดยเรียกใช้ในรูปแบบ\n",
        "\n",
        "    trace(ชื่ออุปกรณ์, สัญญาณอินพุทในรูปดิกต์, ลิสต์ของสัญญาณที่ต้องการตรวจสอบ)\n",
        "\n",
        "ตัวอย่างด้านล่างแสดงการติดตามค่าสัญญาณของอุปกรณ์ชื่อ `nand` ที่สร้างขึ้นมาจากตัวอย่างที่แล้ว โดยกำหนดให้ขา `a` มีค่าเป็น 0, 0, 1, 1 และขา `b` มีค่าเป็น 0, 1, 0, 1 จากนั้นแสดงผลลัพธ์เป็นค่าสัญญาณของขา `a`, `b` และ `out`"
      ]
    },
    {
      "cell_type": "code",
      "metadata": {
        "id": "-b3SYN5w_hmf",
        "colab": {
          "base_uri": "https://localhost:8080/"
        },
        "outputId": "c75bd22c-32bc-4db6-c442-42a4e581d1e3"
      },
      "source": [
        "trace(nand, {'a':'0011', 'b':'0101'}, ['a', 'b', 'out'])"
      ],
      "execution_count": 8,
      "outputs": [
        {
          "output_type": "execute_result",
          "data": {
            "text/plain": [
              "{'a': '0011', 'b': '0101', 'out': '1110'}"
            ]
          },
          "metadata": {},
          "execution_count": 8
        }
      ]
    },
    {
      "cell_type": "markdown",
      "metadata": {
        "id": "y2cwnH-g_hmp"
      },
      "source": [
        "ฟังก์ชัน `trace` จะสามารถติดตามการเปลี่ยนแปลงของสัญญาณเมื่อเทียบกับอินพุทของอุปกรณ์ ในส่วนถัด ๆ ไปเราจะได้เห็นวิธีการใช้ `trace` ในการติดตามสัญญาณของชิ้นส่วนย่อย ๆ ภายในอุปกรณ์แต่ละตัวด้วย\n",
        "\n",
        "เพื่อความสะดวกในการนำผลลัพธ์จาก `trace` มาพล็อตเป็นกราฟสัญญาณ เราจะแยกสัญญาณเป็นส่วนอินพุทมาเก็บไว้ในตัวแปร และให้ `trace` ตามเฉพาะสัญญาณที่เป็นเอาท์พุท"
      ]
    },
    {
      "cell_type": "code",
      "metadata": {
        "id": "TdZ3sqAs_hmr",
        "colab": {
          "base_uri": "https://localhost:8080/"
        },
        "outputId": "710775d0-902b-4d52-8d60-09524ae18c83"
      },
      "source": [
        "# เก็บ input และ output เอาไว้เพื่อง่ายต่อการนำไปพล็อตกราฟสัญญาณ\n",
        "in1 = {'a':'0011', 'b':'0101'}\n",
        "out1 = trace(nand, in1, ['out'])\n",
        "print(out1)"
      ],
      "execution_count": 4,
      "outputs": [
        {
          "output_type": "stream",
          "name": "stdout",
          "text": [
            "{'out': '1110'}\n"
          ]
        }
      ]
    },
    {
      "cell_type": "markdown",
      "metadata": {
        "id": "_OpCM_9m_hmx"
      },
      "source": [
        "ฟังก์ชัน `plot_trace_inout` จะรับดิกต์ของสัญญาณโดยรับสัญญาณกลุ่มสัญญาณ 2 กลุ่ม คือกลุ่มอินพุท และกลุ่มเอาท์พุท\n",
        "\n",
        "    plot_trace_inout(สัญญาณอินพุทในรูปดิกต์, สัญญาณเอาท์พุทในรูปดิกต์)\n",
        "\n",
        "ตัวอย่างเช่น\n"
      ]
    },
    {
      "cell_type": "code",
      "metadata": {
        "id": "geGF0v2s_hmy",
        "colab": {
          "base_uri": "https://localhost:8080/",
          "height": 141
        },
        "outputId": "eb9f89e3-b861-410a-8a81-677a078334b1"
      },
      "source": [
        "plot_trace_inout(in1, out1)"
      ],
      "execution_count": 9,
      "outputs": [
        {
          "output_type": "display_data",
          "data": {
            "text/html": [
              "\n",
              "<script src=\"https://wavedrom.com/skins/default.js\" type=\"text/javascript\"></script>\n",
              "<script src=\"https://wavedrom.com/wavedrom.min.js\" type=\"text/javascript\"></script>\n",
              "<script>\n",
              "  if (WaveDrom == undefined) {\n",
              "    setTimeout(function(){WaveDrom.ProcessAll();}, 1000);\n",
              "  } else {\n",
              "    WaveDrom.ProcessAll();\n",
              "  }\n",
              "</script><div><script type=\"WaveDrom\">{\"signal\": [[\"Input\", {\"name\": \"a\", \"wave\": \"0.1.\"}, {\"name\": \"b\", \"wave\": \"0101\"}], {}, [\"Output\", {\"name\": \"out\", \"wave\": \"1..0\"}]]}</script></div>"
            ]
          },
          "metadata": {}
        }
      ]
    },
    {
      "cell_type": "markdown",
      "metadata": {
        "id": "cfLFiZ6i_hm5"
      },
      "source": [
        "เราสามารถรวมขั้นตอน trace และ plot เป็นขั้นตอนเดียวกันด้วยฟังก์ชัน `trace_and_plot_inout` โดยระบุอุปกรณ์และดิกต์ของสัญญาณอินพุท ฟังก์ชันนี้จะสร้าง trace และพล็อตสัญญาณอินพุทร่วมกับเอาท์พุทให้อัตโนมัติ\n",
        "\n",
        "    trace_and_plot_inout(อ็อปเจ็กต์อุปกรณ์, สัญญาณอินพุทในรูปดิกต์)\n",
        "\n",
        "ดังแสดงในตัวอย่างด้านล่าง"
      ]
    },
    {
      "cell_type": "code",
      "metadata": {
        "id": "BCeCq6Vu_hm6",
        "colab": {
          "base_uri": "https://localhost:8080/",
          "height": 141
        },
        "outputId": "86d6031a-3f6e-4ff9-a786-6feb78325194"
      },
      "source": [
        "trace_and_plot_inout(nand, {'a':'0011', 'b': '1010'})"
      ],
      "execution_count": 10,
      "outputs": [
        {
          "output_type": "display_data",
          "data": {
            "text/html": [
              "\n",
              "<script src=\"https://wavedrom.com/skins/default.js\" type=\"text/javascript\"></script>\n",
              "<script src=\"https://wavedrom.com/wavedrom.min.js\" type=\"text/javascript\"></script>\n",
              "<script>\n",
              "  if (WaveDrom == undefined) {\n",
              "    setTimeout(function(){WaveDrom.ProcessAll();}, 1000);\n",
              "  } else {\n",
              "    WaveDrom.ProcessAll();\n",
              "  }\n",
              "</script><div><script type=\"WaveDrom\">{\"signal\": [[\"Input\", {\"name\": \"a\", \"wave\": \"0.1.\"}, {\"name\": \"b\", \"wave\": \"1010\"}], {}, [\"Output\", {\"name\": \"out\", \"wave\": \"1.01\"}]]}</script></div>"
            ]
          },
          "metadata": {}
        }
      ]
    },
    {
      "cell_type": "markdown",
      "metadata": {
        "id": "xLOCBtPjhbkZ"
      },
      "source": [
        "# การสร้างอุปกรณ์ใหม่ขึ้นจากอุปกรณ์ที่มีอยู่แล้ว\n",
        "\n",
        "กิจกรรมในรายวิชานี้จะเป็นการสร้างเกทหรืออุปกรณ์ใหม่ขึ้นมาจากอุปกรณ์พื้นฐาน ตัวอย่างต่อไปนี้แสดงวิธีการสร้างอุปกรณ์และทดลองใช้เครื่องมือในการติดตามและพล็อตสัญญาณ"
      ]
    },
    {
      "cell_type": "markdown",
      "metadata": {
        "id": "CK5pX7D4_hm_"
      },
      "source": [
        "\n",
        "## ตัวอย่างที่ 1: สร้าง Not gate จาก Nand gate\n",
        "\n",
        "เราจะสร้าง Not gate ขึ้นมาจาก Nand gate โดยการเชื่อมวงจรดังภาพ\n",
        "\n",
        "![not-details.png](data:image/png;base64,iVBORw0KGgoAAAANSUhEUgAAAIsAAAAoCAYAAADOkQm/AAAACXBIWXMAAA7DAAAOwwHHb6hkAAAAGXRFWHRTb2Z0d2FyZQB3d3cuaW5rc2NhcGUub3Jnm+48GgAABO1JREFUeJzt3HuIVFUcwPGPq6mZZkWRWLQVWJSlBmEY5oMoC4qyN0ZCQVhBET3oYUlPpagMCv+o6I8eZFrkK4qSNIzE3uGSPanI/MfEHqJuatsfvzvsndFd3d07c2fH+4XDnjMz95zfsL/7O7/HmdtH4zABH2Y85y78jU34Dl9jJT7CtozXKqghE9BWo/YnXsCYmnyzOqFP3gJkSNqy/IONGc17SNKa9vBeG5bhTmF5CnoJacvyXMZzD8Ro3Igl+Fe5pdmO+9E343ULqkQ1laWSI/CQ2I7SSrMch1V57YIMqKWylDgSrylXmLUYXqP1C7pJHspS4nq0ptZvwaE1lqHq7MlpK+g6z+NS4bvASLypwXyYQlmyYxmuFZYFJuO+/MTJnn55C7AHJogcRlfvynpIks3H6bg9Gc/EAqzLTaIMqUfLMg4jMChvQbrJTHyb9A/A3BxlaXjuEqb8/C5el6eDW8kFyiOksfmKkw1NOL6iFfScZfgqNb41L0GypAmfiT11XdJvpBJAnsxL9S/CkLwEyYomkXFcgqVJv63TKwr2lbewM+kPwrk5ytJdPheKjs4d3LvF3nul8OjfxhVVFa2x+ANfpMaThMM7E9+LJN56YYHqNYHXjMGlQWfKcjFeEfvtOlHJnY8zqildg7E61R+bjB8R0V5/HCWKky04JeO1R2GhUMxVuEW5i/GUMAZpHsC0pD9bbJ03C2OxYG95lvniy5S2pjGYgjXdEn//I31sYTQGiLD6BnwslOZpnIOXxI24I4N1m8VxjUXJWsfhcQzFw8lnpgjLlmaSUGL4JJGlJenvNSm3QbkP8zMOT/rHippI1oyrwpx58VuqPwBbcB5+TV77BhfiS5yGqeIu7ik3CUW4Tvv/ry+ewBztvlRnLBLlixV4la5ncNOLNOPeLl6/v7GlYrxSu6KUaBVWZQ5eT1p3eUz4miPF1pO+0VeJbaUZP3Vn8p6k+1twSQ+u74ipuKYK8+ZBZRqiVmmJgXa3Hq3J3wO7O2lPlGWTCA+z5oQqzJkXlbmViWL7/iX12kBMT/qX440M1v1BOLhpRosD6CWrsk0cF+2MHdp9GE3CVF0mSuxtiqRclhyT6m8XYeg7oiLdX0RAS3GSCLMXZ7TuyzgLM5J1ThRR2HztBde1Ii0yCqfiSZxZMc+PwtIPw8lEjJ9uJYYIrU8zWPULfI1QGyoxT7tMa/Cp8ppRqa0XfkaWTBeH1nclbSEOTr1/nHCw27BVRGUfYFbqM+Pxe/KZSv+rLmgkZVmrXaZnRFLuHhE+t4po6VnVS8r1Ew5tZ9vN8ESuzhiKpno8z9IoNCu3FiuEDzAnabVgp92jr0o27MM8f1Gf51kahWna/b+teD9HWTKhUJbq0F8kxkosFuWSXk2hLNVhBo5OjRvitFw9+ywvCvO9r1RGbnkxDA+mxu+KKKjXU4/KsloklXrjzyiaROq+FN3swG35iVPQEfUQOs9Vnj+Z1fnHC/IiT2Xpg0eVK8pyvdM67hfkpSwHiUNiaUUpfr5asBuTxTnVq1OvtYjztptzkahgn6ilZRkvfu5RWeN5TwNalBL1GA3VI8NFiX+iOMMzouL9VlHVnY3/aita7WhUZbkKZ2cwz0BRhOuo0l56TNgd4mB0QS+hlg8g3Cwes7FfPYCwUS1LVpQebbpRWI70o023d3xZY/I/06pVhZED81QAAAAASUVORK5CYII=)\n",
        "\n",
        "หากเราประกอบเกต `Not` บนเบรดบอร์ดด้วยชิป 74HC00 (Quad 2-Input NAND Gate) จะมีลักษณะดังภาพ โดยเบรดบอร์ดทั้งชิ้นทำหน้าที่เสมือนเกต `Not` 1 ตัว\n",
        "\n",
        "![Not gate on breadboard](https://ecourse.cpe.ku.ac.th/courses/comsys/pics/not-gate-breadboard.png)\n",
        "\n",
        "ในไลบรารี Component Builder เราจะออกแบบเกตใหม่ในรูปคลาสด้วยภาษาไพทอน โดยนิยามคลาส `Not` ที่ซับคลาสมาจากคลาส `Component` และต้องกำหนดคุณสมบัติ 3 อย่างให้กับคลาสได้แก่\n",
        "\n",
        "1. `IN` - ระบุลิสต์ของชื่อสัญญาณอินพุท กรณีนี้มีเพียงขา `In`\n",
        "2. `OUT` - ระบุลิสต์ของชื่อสัญญาณเอาท์พุท กรณีนี้มีเพียงขา `out`\n",
        "3. `PARTS` - ระบุลิสต์ของอุปกรณ์ย่อยภายในและการเชื่อมโยงสัญญาณระหว่างอุปกรณ์ย่อย กรณีนี้คือเกต Nand 1 ตัว และสายสัญญาณ 3 เส้น\n",
        "\n",
        "ทั้งนี้เราไม่ต้องระบุการเชื่อมต่อสายไฟเลี้ยง (VCC และ GND) เนื่องจากอุปกรณ์ทุกตัวต้องมีการจ่ายไฟเลี้ยงเสมอ\n",
        "\n",
        "ไลบรารีรองรับการสร้างและกำหนดชื่อสายสัญญาณด้วยอ็อปเจ็กต์พิเศษชื่อ `w` (ย่อมาจาก wire factory) ในรูปแบบ `w.ชื่อสายสัญญาณ` อุปกรณ์ Not gate ตามภาพด้านบนมีสัญญาณ `In` เป็นอินพุท และ `out` เป็นเอาท์พุท ดังนั้นเราจะให้ `IN = [w.In]` และ `OUT = [w.out]` (ความจริงแล้วควรใช้ชื่อสัญญาณเป็น `in` ตัวเล็ก แต่ใช้ไม่ได้เนื่องจาก `in` เป็นคีย์เวิร์ดในภาษาไพทอน เราจึงเลือกใช้ `In` แทน `in` ไปตลอดทั้งรายวิชานี้)\n",
        "\n",
        "ส่วนของ `PARTS` คือการระบุส่วนประกอบภายในของอุปกรณ์ พร้อมกับการเชื่อมสายสัญญาณ ซึ่งในกรณีนี้อุปกรณ์ภายในมีเพียง `Nand` gate ตัวเดียว โดยกำหนดให้ขาอินพุท a และ b ของ Nand gate เชื่อมเข้ากับสัญญาณ `w.In` ซึ่งโยงมาจากขาอินพุทของ Not gate และเชื่อมขา out ของ Nand gate เข้ากับสัญญาณ `w.out` ซึ่งโยงไปยังขาเอาท์พุทของ Not gate\n",
        "\n",
        "ทั้งหมดนี้นำมาเขียนเป็นคลาส `Not` โดยสมบูรณ์ได้ดังโค้ดด้านล่าง"
      ]
    },
    {
      "cell_type": "code",
      "metadata": {
        "id": "ZbE3Wweg_hm_"
      },
      "source": [
        "class Not(Component):\n",
        "    IN = [w.In]\n",
        "    OUT = [w.out]\n",
        "\n",
        "    PARTS = [\n",
        "        Nand(a=w.In, b=w.In, out=w.out),\n",
        "    ]"
      ],
      "execution_count": 11,
      "outputs": []
    },
    {
      "cell_type": "markdown",
      "metadata": {
        "id": "W6lpuaZx_hnF"
      },
      "source": [
        "เราสามารถพิมพ์ส่วนประกอบภายในของ Not gate ได้โดยสร้างอ็อปเจ็กต์ขึ้นจากคลาสแล้วเรียกฟังก์ชัน `report_parts`"
      ]
    },
    {
      "cell_type": "code",
      "metadata": {
        "id": "AvinHLOk_hnG",
        "colab": {
          "base_uri": "https://localhost:8080/"
        },
        "outputId": "4f2d5e15-f271-4021-de3d-9043c33e2950"
      },
      "source": [
        "not_gate = Not()\n",
        "print(report_parts(not_gate))"
      ],
      "execution_count": 12,
      "outputs": [
        {
          "output_type": "stream",
          "name": "stdout",
          "text": [
            "Not\n",
            "  Nand-1\n"
          ]
        }
      ]
    },
    {
      "cell_type": "markdown",
      "metadata": {
        "id": "chikKWZ6_hnM"
      },
      "source": [
        "จะเห็นว่าภายในมี Nand gate หนึ่งตัว ซึ่งเราจะเรียกว่า `Nand-1`  ส่วนอุปกรณ์ระดับบนสุดชื่อ `Not` (ตามชื่อที่ตั้งให้กับคลาส)"
      ]
    },
    {
      "cell_type": "markdown",
      "metadata": {
        "id": "87b7gJY0_hnM"
      },
      "source": [
        "ลองนำ Not gate ที่สร้างขึ้นมาพล็อตสัญญาณด้วย `trace_and_plot_inout`"
      ]
    },
    {
      "cell_type": "code",
      "metadata": {
        "id": "7x26GQNG_hnN",
        "colab": {
          "base_uri": "https://localhost:8080/",
          "height": 111
        },
        "outputId": "6d4efc8d-9d19-4aeb-e448-dc840f6d790f"
      },
      "source": [
        "trace_and_plot_inout(not_gate, {'In':'011000111100'})"
      ],
      "execution_count": 13,
      "outputs": [
        {
          "output_type": "display_data",
          "data": {
            "text/html": [
              "\n",
              "<script src=\"https://wavedrom.com/skins/default.js\" type=\"text/javascript\"></script>\n",
              "<script src=\"https://wavedrom.com/wavedrom.min.js\" type=\"text/javascript\"></script>\n",
              "<script>\n",
              "  if (WaveDrom == undefined) {\n",
              "    setTimeout(function(){WaveDrom.ProcessAll();}, 1000);\n",
              "  } else {\n",
              "    WaveDrom.ProcessAll();\n",
              "  }\n",
              "</script><div><script type=\"WaveDrom\">{\"signal\": [[\"Input\", {\"name\": \"In\", \"wave\": \"01.0..1...0.\"}], {}, [\"Output\", {\"name\": \"out\", \"wave\": \"10.1..0...1.\"}]]}</script></div>"
            ]
          },
          "metadata": {}
        }
      ]
    },
    {
      "cell_type": "markdown",
      "metadata": {
        "id": "Q0Mzxq7w_hnS"
      },
      "source": [
        "เราสามารถ `trace` สัญญาณของอุปกรณ์ย่อยภายในได้ แต่เราต้องระบุชื่ออุปกรณ์พร้อมกับชื่อสัญญาณที่ต้องการ (ดูจากผลลัพธ์ของฟังก์ชัน `report_parts`) เช่น `Not:a`, `Nand-1:a`, `Nand-1:b` เป็นต้น การติดตามสัญญาณในระดับที่ลึกขึ้นเช่นนี้ต้องมีการระบุอาร์กิวเมนต์ `level` เอาไว้ด้วย ในกรณีนี้ระบุแค่ `level=1` ก็เพียงพอ"
      ]
    },
    {
      "cell_type": "code",
      "metadata": {
        "id": "bVRZe0HG_hnT"
      },
      "source": [
        "trace(not_gate,\n",
        "      {'In':'011000111100'},   # สัญญาณ input\n",
        "      ['Not:In', 'Nand-1:a', 'Nand-1:b', 'Nand-1:out', 'Not:out'],   # สัญญาณที่ต้องการติดตาม\n",
        "      level=1)   # ระบุ level ให้ไล่ติดตามลึกลงไป 1 ชั้น"
      ],
      "execution_count": null,
      "outputs": []
    },
    {
      "cell_type": "markdown",
      "metadata": {
        "id": "TRjkV2PY_hnZ"
      },
      "source": [
        "ฟังก์ชัน `trace_and_plot` อำนวยความสะดวกในการพล็อตผลการติดตามสัญญาณ\n",
        "โดยระบุรายการติดตามสัญญาณในรูปดิกต์แทนลิสต์เพื่อจับกลุ่มสัญญาณ\n",
        "สัญญาณจะถูกพล็อตแยกตามกลุ่มพร้อมแสดงชื่อกลุ่มกำกับไว้ด้านข้างตามที่ระบุไว้เป็นคีย์ของดิกต์\n",
        "\n",
        "    trace_and_plot(อ็อปเจ็กต์อุปกรณ์,\n",
        "                   สัญญาณอินพุทในรูปดิกต์,\n",
        "                   กลุ่มสัญญาณที่ต้องการติดตามและพล็อตในรูปดิกต์,\n",
        "                   level=ระดับชั้นรายละเอียด)\n",
        "\n",
        "ตัวอย่างเช่น"
      ]
    },
    {
      "cell_type": "code",
      "metadata": {
        "id": "gHfCXZ9C_hnb"
      },
      "source": [
        "trace_and_plot(not_gate,\n",
        "               {'In':'011000111100'},   # input\n",
        "               { # ป้อนรายการติดตามสัญญาณในรูปดิกต์เพื่อจับกลุ่มสัญญาณเข้าด้วยกันเวลาพล็อต\n",
        "                   'Input': ['Not:In'],\n",
        "                   'Internal': ['Nand-1:a', 'Nand-1:b', 'Nand-1:out'],\n",
        "                   'Output': ['Not:out'],\n",
        "               },\n",
        "               level=1)"
      ],
      "execution_count": null,
      "outputs": []
    },
    {
      "cell_type": "markdown",
      "metadata": {
        "id": "NAwDNj7p_hnf"
      },
      "source": [
        "## ตัวอย่างที่ 2 การเชื่อมโยงอุปกรณ์ภายใน\n",
        "\n",
        "ด้านล่างเป็นอุปกรณ์ชื่อ `C1` ที่สร้างจาก Nand gate สองตัวและ Not gate หนึ่งตัว (แบบมั่ว ๆ) ดังภาพ\n",
        "\n",
        "![C1 Component](https://ecourse.cpe.ku.ac.th/courses/comsys/pics/c1.png)\n",
        "\n",
        "เขียนเป็นคลาสได้ดังโค้ดด้านล่าง สังเกตว่าสัญญาณเอาท์พุทของ Nand ตัวบน (`Nand-1`) จะโยงเข้ากับสายสัญญาณชื่อ `w.c` ซึ่งสร้างขึ้นมาเพื่อเชื่อมโยงระหว่างอุปกรณ์ภายในเท่านั้น"
      ]
    },
    {
      "cell_type": "code",
      "metadata": {
        "id": "7oQcfvXz_hng"
      },
      "source": [
        "class C1(Component):\n",
        "    IN = [w.x, w.y, w.z]\n",
        "    OUT = [w.out1, w.out2]\n",
        "\n",
        "    PARTS = [\n",
        "        Nand(a=w.x, b=w.y, out=w.c),\n",
        "        Not(In=w.c, out=w.out1),\n",
        "        Nand(a=w.c, b=w.z, out=w.out2),\n",
        "    ]"
      ],
      "execution_count": null,
      "outputs": []
    },
    {
      "cell_type": "markdown",
      "metadata": {
        "id": "EvdqaUev_hnl"
      },
      "source": [
        "เราสามารถพิมพ์ส่วนประกอบภายใน `C1` ได้ดังนี้ สังเกตว่าเราใช้ `level=2` เพื่อพิมพ์ส่วนประกอบของ `Not-2` มาด้วย (มีชื่อเป็น `Nand-2-1`)"
      ]
    },
    {
      "cell_type": "code",
      "metadata": {
        "id": "-HgF9zFz_hnm"
      },
      "source": [
        "c1_gate = C1()\n",
        "print(report_parts(c1_gate, level=2))"
      ],
      "execution_count": null,
      "outputs": []
    },
    {
      "cell_type": "markdown",
      "metadata": {
        "id": "uOSU53BE_hnq"
      },
      "source": [
        "ทดลองติดตามสัญญาณได้ดังตัวอย่าง"
      ]
    },
    {
      "cell_type": "code",
      "metadata": {
        "id": "F4_mGcvw_hnq"
      },
      "source": [
        "trace_and_plot(c1_gate,\n",
        "               {'x':'00001111', 'y':'00110011', 'z':'01010101'},\n",
        "               {'Input': ['C1:x', 'C1:y', 'C1:z'],\n",
        "                'Nand-1': ['Nand-1:a', 'Nand-1:b', 'Nand-1:out'],\n",
        "                'N21 (in Not-2)': ['Nand-2-1:a', 'Nand-2-1:out'],\n",
        "                'Output': ['C1:out1', 'C1:out2']},\n",
        "               level=2)"
      ],
      "execution_count": null,
      "outputs": []
    },
    {
      "cell_type": "markdown",
      "metadata": {
        "id": "EDmojbtKSk04"
      },
      "source": [
        "# สายสัญญาณแบบหลายบิต (Multi-bit)\n",
        "\n",
        "เมื่ออุปกรณ์ซับซ้อนมากขึ้น เราจำเป็นต้องทำงานกับสัญญาณที่มีหลายบิต เราสามารถสร้างสายสัญญาณหลายบิตโดยใส่พารามิเตอร์ให้กับ `w` ในรูปแบบ `w(width)` โดยที่ `width` แทนจำนวนบิต ตัวอย่างเช่น สัญญาณ `w(2).a` จะมีความกว้าง 2 บิต และ `w(16).b` จะมีความกว้าง 16 บิต เป็นต้น\n",
        "\n",
        "ในการเขียนระบุความกว้างสัญญาณในอุปกรณ์ สามารถระบุเพียงครั้งแรกครั้งเดียว ไลบรารีจะนำความกว้างนั้นไปใช้กับสัญญาณชื่อเดียวกันภายในนิยามคลาสของอุปกรณ์\n",
        "\n",
        "การอ้างถึงสัญญาณในการระบุ PARTS เราสามารถเลือกใช้เป็นบิต หรือเลือกเฉือนบิตมาเพียงบางส่วนได้ โดยการระบุอินเด็กซ์แบบไพทอน เช่น `w.a[0]` แทนบิตที่ 0 ของสายสัญญาณ `a` และ `w.b[0:8]` แทนสายสัญญาณ 8 บิตล่างของ `b`\n",
        "\n",
        "พิจารณาตัวอย่าง `Nand2` ที่เป็น Nand gate ที่รับสัญญาณความกว้าง 2 บิต"
      ]
    },
    {
      "cell_type": "code",
      "metadata": {
        "id": "I8EsUxx1cvgC"
      },
      "source": [
        "class Nand2(Component):\n",
        "    IN = [w(2).a, w(2).b]\n",
        "    OUT = [w(2).out]\n",
        "\n",
        "    PARTS = [\n",
        "        Nand(a=w.a[0], b=w.b[0], out=w.out[0]),\n",
        "        Nand(a=w.a[1], b=w.b[1], out=w.out[1]),\n",
        "    ]"
      ],
      "execution_count": null,
      "outputs": []
    },
    {
      "cell_type": "markdown",
      "metadata": {
        "id": "P8gbvqV5fgsY"
      },
      "source": [
        "ในการติดตามสัญญาณ สามารถระบุค่าในรูปลิสต์ของจำนวนเต็มบวกเพื่อแทนค่าสัญญาณอินพุทแบบหลายบิตได้เลย"
      ]
    },
    {
      "cell_type": "code",
      "metadata": {
        "id": "AXOmBsd6gDJG"
      },
      "source": [
        "nand2_gate = Nand2()\n",
        "trace_and_plot_inout(\n",
        "    nand2_gate,\n",
        "    {\n",
        "        'a':[0,1,2,3,0,1,2,3,0,1,2,3,0,1,2,3],\n",
        "        'b':[0,0,0,0,1,1,1,1,2,2,2,2,3,3,3,3],\n",
        "    },\n",
        "    ['out'])"
      ],
      "execution_count": null,
      "outputs": []
    },
    {
      "cell_type": "markdown",
      "metadata": {
        "id": "tTbl3WiTdQYg"
      },
      "source": [
        "# การกำหนด PARTS โดยการโปรแกรม\n",
        "\n",
        "บ่อยครั้งที่เราจะพบว่าการสร้างอุปกรณ์เต็มไปด้วยงานที่ซ้ำ ๆ กัน อย่างไรก็ตามเนื่องจากไลบรารีเราเป็นโค้ดภาษาไพทอน ดังนั้นในการสร้างอุปกรณ์จึงสามารถอาศัยกลไกของภาษาไพทอนเข้ามาช่วยอำนวยความสะดวกได้  \n",
        "\n",
        "ตัวอย่างด้านล่างนิยาม `Nand2Alt` ซึ่งมีพฤติกรรมเหมือน `Nand2` ทุกประการ แต่ใช้ลูป for ของไพทอนเพื่อบรรจุ Nand gate ลงไปใน `PARTS` แทนการพิมพ์ `Nand(...)` ซ้ำหลายครั้ง"
      ]
    },
    {
      "cell_type": "code",
      "metadata": {
        "id": "oQ79t3Hcgfnj"
      },
      "source": [
        "class Nand2Alt(Component):\n",
        "    IN = [w(2).a, w(2).b]\n",
        "    OUT = [w(2).out]\n",
        "\n",
        "    PARTS = []\n",
        "    for i in range(2):\n",
        "        PARTS.append(Nand(a=w.a[i], b=w.b[i], out=w.out[i]))"
      ],
      "execution_count": null,
      "outputs": []
    },
    {
      "cell_type": "code",
      "metadata": {
        "id": "IGR45Xl8hakR"
      },
      "source": [
        "nand2alt_gate = Nand2Alt()\n",
        "trace_and_plot_inout(\n",
        "    nand2alt_gate,\n",
        "    {\n",
        "        'a':[0,1,2,3,0,1,2,3,0,1,2,3,0,1,2,3],\n",
        "        'b':[0,0,0,0,1,1,1,1,2,2,2,2,3,3,3,3],\n",
        "    },\n",
        "    ['out'])"
      ],
      "execution_count": null,
      "outputs": []
    },
    {
      "cell_type": "markdown",
      "metadata": {
        "id": "XXK9we0SeZky"
      },
      "source": [
        "# ค่าคงที่\n",
        "\n",
        "ขณะนี้เรามีค่าคงที่ให้ใช้ในการสร้าง component สามรูปแบบคือ\n",
        "\n",
        "* `w.T` กำหนดสัญญาณให้ทุกบิตมีค่าคงที่ 1\n",
        "* `w.F` กำหนดสัญญาณให้ทุกบิตมีค่าคงที่ 0\n",
        "* `w.constant(x)` กำหนดสัญญาณให้มีค่าคงที่เท่ากับจำนวนเต็ม `x`\n",
        "\n",
        "สัญญาณคงที่เหล่านี้สามารถระบุหลายบิตได้ เช่น\n",
        "\n",
        "* `w(8).T` เทียบเท่ากับ `11111111`\n",
        "* `w(4).F` เทียบเท่ากับ `0000`\n",
        "* `w(8).constant(1)` เทียบเท่ากับ `00000001`\n",
        "* `w(16).constant(0xAA55)` เทียบเท่ากับ `1010101001010101`\n",
        "\n",
        "ตัวอย่างการใช้งานแสดงด้านล่าง"
      ]
    },
    {
      "cell_type": "code",
      "metadata": {
        "id": "b8BTwaHJi8Jn"
      },
      "source": [
        "class AnotherNot(Component):\n",
        "    IN = [w.In]\n",
        "    OUT = [w.out]\n",
        "\n",
        "    PARTS = [\n",
        "        Nand(a=w.In, b=w.T, out=w.out)\n",
        "    ]\n",
        "\n",
        "not2 = AnotherNot()\n",
        "trace_and_plot_inout(not2, {'In':'001101010'}, ['out'])"
      ],
      "execution_count": null,
      "outputs": []
    },
    {
      "cell_type": "markdown",
      "metadata": {
        "id": "-Xvba5tbdYno"
      },
      "source": [
        "# สรุปรูปแบบการใช้งาน wire factory (`w`)\n",
        "\n",
        "* ใช้ในการสร้าง component รูปแบบทั่วไปคือ `w.wirename`\n",
        "* ระบุความกว้าง (width) โดยเรียก `w` เป็นฟังก์ชัน ในรูปแบบ `w(width).wirename` เช่น `w(8).a`\n",
        "* ระบุความกว้างครั้งเดียว ทุก ๆ สายสัญญาณชื่อนั้นจะมีความกว้างตามที่ระบุทั้งหมด (ประหยัดการพิมพ์)\n",
        "* ในการใช้งานสายสัญญาณไปเชื่อมกับอุปกรณ์ย่อยใน PARTS สามารถเลือกอินเด็กซ์หรือเฉือน (slice) สายสัญญาณได้ เช่น `w.a[0]` หรือ `w.b[0:8]`\n",
        "\n",
        "**ข้อควรระวัง**\n",
        "\n",
        "* ในการนิยามอุปกรณ์ด้วยไลบรารีนี้จะต้องระวังไม่ให้เกิดลูปขึ้นในวงจร ไม่เช่นนั้นระบบซิมูเลชันจะทำงานไม่ได้\n",
        "* หน่วยย่อยในการนับลูปคือสายสัญญาณ ไม่ใช่บิตย่อย ๆ ในสายสัญญาณ\n",
        "\n"
      ]
    },
    {
      "cell_type": "markdown",
      "metadata": {
        "id": "IXhTpcuPcwuP"
      },
      "source": [
        "# โต้ตอบกับอุปกรณ์\n",
        "\n",
        "**หมายเหตุ:** ส่วนนี้ทำงานได้กับ Google Colab เท่านั้น\n",
        "\n",
        "ไลบรารีของรายวิชานี้เตรียมฟังก์ชัน `interact` เอาไว้ให้เพื่อจำลองอุปกรณ์ในรูปกราฟิกส์ที่สามารถโต้ตอบกับผู้ใช้ได้โดยการกดที่ขาอินพุทของอุปกรณ์ รูปแบบการใช้งานคือ\n",
        "\n",
        "    interact(คลาสอุปกรณ์, **options)\n",
        "\n",
        "ตัวอย่างเช่น"
      ]
    },
    {
      "cell_type": "code",
      "metadata": {
        "id": "Ud6VVZhVcy1x",
        "colab": {
          "base_uri": "https://localhost:8080/",
          "height": 100
        },
        "outputId": "5d273f44-69b6-4490-c5ae-54946a8efbd7"
      },
      "source": [
        "interact(Nand)"
      ],
      "execution_count": 14,
      "outputs": [
        {
          "output_type": "display_data",
          "data": {
            "text/html": [
              "\n",
              "        <script src=\"https://d3js.org/d3.v5.js\"></script>\n",
              "        <script src=\"https://cdn.jsdelivr.net/npm/elkjs@0.8.2/lib/elk.bundled.js\"></script>\n",
              "        <script src=\"https://ecourse.cpe.ku.ac.th/component-builder/compbuilder/js/component.js?v=20230728-1\"></script>\n",
              "        <script src=\"https://ecourse.cpe.ku.ac.th/component-builder/compbuilder/js/visual.js?v=20230728-1\"></script>\n",
              "        <script src=\"https://ecourse.cpe.ku.ac.th/component-builder/compbuilder/js/widgets.js?v=20230728-1\"></script>\n",
              "    "
            ]
          },
          "metadata": {}
        },
        {
          "output_type": "display_data",
          "data": {
            "text/html": [
              "<script>var compConfig = {\"parts\": [{\"name\": \"Nand\", \"config\": \"Nand\", \"wiring\": {\"a\": {\"net\": 0, \"slice\": [0, 0]}, \"b\": {\"net\": 1, \"slice\": [0, 0]}, \"out\": {\"net\": 2, \"slice\": [0, 0]}}}, {\"name\": \"Nand\", \"config\": \"Nand\", \"wiring\": {\"a\": {\"net\": 0, \"slice\": [0, 0]}, \"b\": {\"net\": 1, \"slice\": [0, 0]}, \"out\": {\"net\": 2, \"slice\": [0, 0]}}}], \"nets\": [{\"name\": \"Nand:a\", \"level\": 0, \"width\": 1, \"signal\": 0, \"sources\": [{\"part\": 1, \"wire\": \"a\"}], \"wiring\": {\"a\": {\"net\": 0, \"slice\": [0, 0]}, \"b\": {\"net\": 1, \"slice\": [0, 0]}, \"out\": {\"net\": 2, \"slice\": [0, 0]}}}, {\"name\": \"Nand:b\", \"level\": 0, \"width\": 1, \"signal\": 0, \"sources\": [{\"part\": 1, \"wire\": \"b\"}], \"wiring\": {\"a\": {\"net\": 0, \"slice\": [0, 0]}, \"b\": {\"net\": 1, \"slice\": [0, 0]}, \"out\": {\"net\": 2, \"slice\": [0, 0]}}}, {\"name\": \"Nand:out\", \"level\": 1, \"width\": 1, \"signal\": 1, \"sources\": [{\"part\": 1, \"wire\": \"out\"}], \"wiring\": {\"a\": {\"net\": 0, \"slice\": [0, 0]}, \"b\": {\"net\": 1, \"slice\": [0, 0]}, \"out\": {\"net\": 2, \"slice\": [0, 0]}}}]};\n",
              "\n",
              "compConfig.partConfigs = {\n",
              "  \"Nand\" : {\n",
              "    IN: [\"a\",\"b\"],\n",
              "    OUT: [\"out\"],\n",
              "    init: null,\n",
              "    process: {\n",
              "      \"out\" : function(w) { return (w.a==1) && (w.b==1) ? 0 : 1; },\n",
              "    }\n",
              "  },\n",
              "  \"Nand\" : {\n",
              "    IN: [\"a\",\"b\"],\n",
              "    OUT: [\"out\"],\n",
              "    init: null,\n",
              "    process: {\n",
              "      \"out\" : function(w) { return (w.a==1) && (w.b==1) ? 0 : 1; },\n",
              "    }\n",
              "  }\n",
              "};\n",
              "\n",
              "var component = new Component(compConfig);\n",
              "\n",
              "var graph = {\"id\": \"$root\", \"children\": [{\"id\": \"Nand\", \"width\": 48, \"height\": 40, \"labels\": [{\"text\": \"Nand\", \"id\": \"L\", \"width\": 24, \"height\": 10}], \"svg\": \"\\n            <path d=\\\"M 0,0\\n                     h 20\\n                     a 20,20,180,1,1,0,40\\n                     h -20\\n                     z\\\" />\\n            <circle cx=\\\"44\\\" cy=\\\"20\\\" r=\\\"4\\\"/>\\n        \", \"ports\": [{\"id\": \"P_Nand:b\", \"properties\": {\"port.side\": \"WEST\", \"port.index\": 0}, \"width\": 0, \"height\": 16, \"wire\": {\"net\": 1, \"slice\": [0, 0], \"name\": \"b\"}, \"name\": \"b\"}, {\"id\": \"P_Nand:a\", \"properties\": {\"port.side\": \"WEST\", \"port.index\": 1}, \"width\": 0, \"height\": 16, \"wire\": {\"net\": 0, \"slice\": [0, 0], \"name\": \"a\"}, \"name\": \"a\"}, {\"id\": \"P_Nand:out\", \"properties\": {\"port.side\": \"EAST\", \"port.index\": 2}, \"width\": 0, \"height\": 16, \"wire\": {\"net\": 2, \"slice\": [0, 0], \"name\": \"out\"}, \"name\": \"out\"}], \"gate\": \"Nand\", \"properties\": {\"portConstraints\": \"FIXED_ORDER\", \"nodeLabels.placement\": \"[H_LEFT, V_TOP, OUTSIDE]\", \"portLabels.placement\": \"OUTSIDE\"}}, {\"id\": \"C_Nand:b\", \"type\": \"connector\", \"direction\": \"in\", \"width\": 20, \"height\": 16, \"ports\": [{\"id\": \"CP_Nand:b\", \"properties\": {\"port.side\": \"EAST\"}, \"width\": 0, \"height\": 0, \"type\": \"connector\"}], \"properties\": {\"portConstraints\": \"FIXED_ORDER\", \"nodeLabels.placement\": \"[H_CENTER, V_CENTER, INSIDE]\"}, \"wire\": {\"net\": 1, \"slice\": [0, 0], \"name\": \"b\"}}, {\"id\": \"C_Nand:a\", \"type\": \"connector\", \"direction\": \"in\", \"width\": 20, \"height\": 16, \"ports\": [{\"id\": \"CP_Nand:a\", \"properties\": {\"port.side\": \"EAST\"}, \"width\": 0, \"height\": 0, \"type\": \"connector\"}], \"properties\": {\"portConstraints\": \"FIXED_ORDER\", \"nodeLabels.placement\": \"[H_CENTER, V_CENTER, INSIDE]\"}, \"wire\": {\"net\": 0, \"slice\": [0, 0], \"name\": \"a\"}}, {\"id\": \"C_Nand:out\", \"type\": \"connector\", \"direction\": \"out\", \"width\": 20, \"height\": 16, \"ports\": [{\"id\": \"CP_Nand:out\", \"properties\": {\"port.side\": \"WEST\"}, \"width\": 0, \"height\": 0, \"type\": \"connector\"}], \"properties\": {\"portConstraints\": \"FIXED_ORDER\", \"nodeLabels.placement\": \"[H_CENTER, V_CENTER, INSIDE]\"}, \"wire\": {\"net\": 2, \"slice\": [0, 0], \"name\": \"out\"}}], \"edges\": [{\"sources\": [\"CP_Nand:b\"], \"targets\": [\"P_Nand:b\"], \"id\": \"CE_0\", \"wire\": {\"net\": 1, \"slice\": [0, 0], \"name\": \"b\"}, \"name\": \"b\"}, {\"sources\": [\"CP_Nand:a\"], \"targets\": [\"P_Nand:a\"], \"id\": \"CE_1\", \"wire\": {\"net\": 0, \"slice\": [0, 0], \"name\": \"a\"}, \"name\": \"a\"}, {\"sources\": [\"CP_Nand:out\"], \"targets\": [\"P_Nand:out\"], \"id\": \"CE_2\", \"wire\": {\"net\": 2, \"slice\": [0, 0], \"name\": \"out\"}, \"name\": \"out\"}]};\n",
              "\n",
              "var probe = [];\n",
              "\n",
              "var config = {\n",
              "  component: component,\n",
              "  graph: graph,\n",
              "  probe: probe,\n",
              "  inputScript: null\n",
              "};</script>"
            ]
          },
          "metadata": {}
        },
        {
          "output_type": "display_data",
          "data": {
            "text/html": [
              "\n",
              "        <link rel=\"stylesheet\" type=\"text/css\" href=\"https://ecourse.cpe.ku.ac.th/component-builder/compbuilder/css/styles.css?v=20230728-1\" />\n",
              "        <div id=\"interact-diagram-1\"></div>\n",
              "        <script>\n",
              "          compbuilder.create(\"#interact-diagram-1\",config);\n",
              "        </script>\n",
              "    "
            ]
          },
          "metadata": {}
        }
      ]
    },
    {
      "cell_type": "code",
      "metadata": {
        "id": "ZB23Er5FNn2G",
        "colab": {
          "base_uri": "https://localhost:8080/",
          "height": 85
        },
        "outputId": "0c8284c8-410d-45b3-823a-cf8c54d5c390"
      },
      "source": [
        "interact(Not)"
      ],
      "execution_count": 15,
      "outputs": [
        {
          "output_type": "display_data",
          "data": {
            "text/html": [
              "\n",
              "        <script src=\"https://d3js.org/d3.v5.js\"></script>\n",
              "        <script src=\"https://cdn.jsdelivr.net/npm/elkjs@0.8.2/lib/elk.bundled.js\"></script>\n",
              "        <script src=\"https://ecourse.cpe.ku.ac.th/component-builder/compbuilder/js/component.js?v=20230728-1\"></script>\n",
              "        <script src=\"https://ecourse.cpe.ku.ac.th/component-builder/compbuilder/js/visual.js?v=20230728-1\"></script>\n",
              "        <script src=\"https://ecourse.cpe.ku.ac.th/component-builder/compbuilder/js/widgets.js?v=20230728-1\"></script>\n",
              "    "
            ]
          },
          "metadata": {}
        },
        {
          "output_type": "display_data",
          "data": {
            "text/html": [
              "<script>var compConfig = {\"parts\": [{\"name\": \"Not\", \"config\": \"Not\", \"wiring\": {\"In\": {\"net\": 0, \"slice\": [0, 0]}, \"out\": {\"net\": 1, \"slice\": [0, 0]}}}, {\"name\": \"Nand-1\", \"config\": \"Nand\", \"wiring\": {\"a\": {\"net\": 0, \"slice\": [0, 0]}, \"b\": {\"net\": 0, \"slice\": [0, 0]}, \"out\": {\"net\": 1, \"slice\": [0, 0]}}}], \"nets\": [{\"name\": \"Not:In\", \"level\": 0, \"width\": 1, \"signal\": 0, \"sources\": [{\"part\": 0, \"wire\": \"In\"}], \"wiring\": {\"a\": {\"net\": 0, \"slice\": [0, 0]}, \"b\": {\"net\": 0, \"slice\": [0, 0]}, \"out\": {\"net\": 1, \"slice\": [0, 0]}}}, {\"name\": \"Not:out\", \"level\": 1, \"width\": 1, \"signal\": 1, \"sources\": [{\"part\": 1, \"wire\": \"out\"}], \"wiring\": {\"a\": {\"net\": 0, \"slice\": [0, 0]}, \"b\": {\"net\": 0, \"slice\": [0, 0]}, \"out\": {\"net\": 1, \"slice\": [0, 0]}}}]};\n",
              "\n",
              "compConfig.partConfigs = {\n",
              "  \"Not\" : {\n",
              "    IN: [\"In\"],\n",
              "    OUT: [\"out\"],\n",
              "  },\n",
              "  \"Nand\" : {\n",
              "    IN: [\"a\",\"b\"],\n",
              "    OUT: [\"out\"],\n",
              "    init: null,\n",
              "    process: {\n",
              "      \"out\" : function(w) { return (w.a==1) && (w.b==1) ? 0 : 1; },\n",
              "    }\n",
              "  }\n",
              "};\n",
              "\n",
              "var component = new Component(compConfig);\n",
              "\n",
              "var graph = {\"id\": \"$root\", \"children\": [{\"id\": \"Not\", \"width\": 60, \"height\": 20, \"labels\": [{\"text\": \"Not\", \"id\": \"L\", \"width\": 18, \"height\": 10}], \"ports\": [{\"id\": \"P_Not:In\", \"properties\": {\"port.side\": \"WEST\", \"port.index\": 0}, \"width\": 8, \"height\": 8, \"labels\": [{\"id\": \"LPNot:In\", \"text\": \"In\", \"width\": 12, \"height\": 10}], \"wire\": {\"net\": 0, \"slice\": [0, 0], \"name\": \"In\"}, \"name\": \"In\"}, {\"id\": \"P_Not:out\", \"properties\": {\"port.side\": \"EAST\", \"port.index\": 1}, \"width\": 8, \"height\": 8, \"labels\": [{\"id\": \"LPNot:out\", \"text\": \"out\", \"width\": 18, \"height\": 10}], \"wire\": {\"net\": 1, \"slice\": [0, 0], \"name\": \"out\"}, \"name\": \"out\"}], \"gate\": \"Not\", \"properties\": {\"portConstraints\": \"FIXED_ORDER\", \"nodeLabels.placement\": \"[H_LEFT, V_TOP, OUTSIDE]\", \"portLabels.placement\": \"OUTSIDE\"}}, {\"id\": \"C_Not:In\", \"type\": \"connector\", \"direction\": \"in\", \"width\": 20, \"height\": 16, \"ports\": [{\"id\": \"CP_Not:In\", \"properties\": {\"port.side\": \"EAST\"}, \"width\": 0, \"height\": 0, \"type\": \"connector\"}], \"properties\": {\"portConstraints\": \"FIXED_ORDER\", \"nodeLabels.placement\": \"[H_CENTER, V_CENTER, INSIDE]\"}, \"wire\": {\"net\": 0, \"slice\": [0, 0], \"name\": \"In\"}}, {\"id\": \"C_Not:out\", \"type\": \"connector\", \"direction\": \"out\", \"width\": 20, \"height\": 16, \"ports\": [{\"id\": \"CP_Not:out\", \"properties\": {\"port.side\": \"WEST\"}, \"width\": 0, \"height\": 0, \"type\": \"connector\"}], \"properties\": {\"portConstraints\": \"FIXED_ORDER\", \"nodeLabels.placement\": \"[H_CENTER, V_CENTER, INSIDE]\"}, \"wire\": {\"net\": 1, \"slice\": [0, 0], \"name\": \"out\"}}], \"edges\": [{\"sources\": [\"CP_Not:In\"], \"targets\": [\"P_Not:In\"], \"id\": \"CE_0\", \"wire\": {\"net\": 0, \"slice\": [0, 0], \"name\": \"In\"}, \"name\": \"In\"}, {\"sources\": [\"CP_Not:out\"], \"targets\": [\"P_Not:out\"], \"id\": \"CE_1\", \"wire\": {\"net\": 1, \"slice\": [0, 0], \"name\": \"out\"}, \"name\": \"out\"}]};\n",
              "\n",
              "var probe = [];\n",
              "\n",
              "var config = {\n",
              "  component: component,\n",
              "  graph: graph,\n",
              "  probe: probe,\n",
              "  inputScript: null\n",
              "};</script>"
            ]
          },
          "metadata": {}
        },
        {
          "output_type": "display_data",
          "data": {
            "text/html": [
              "\n",
              "        <link rel=\"stylesheet\" type=\"text/css\" href=\"https://ecourse.cpe.ku.ac.th/component-builder/compbuilder/css/styles.css?v=20230728-1\" />\n",
              "        <div id=\"interact-diagram-2\"></div>\n",
              "        <script>\n",
              "          compbuilder.create(\"#interact-diagram-2\",config);\n",
              "        </script>\n",
              "    "
            ]
          },
          "metadata": {}
        }
      ]
    },
    {
      "cell_type": "code",
      "metadata": {
        "id": "9sRJ7pJeN1UY"
      },
      "source": [
        "interact(C1)"
      ],
      "execution_count": null,
      "outputs": []
    },
    {
      "cell_type": "markdown",
      "metadata": {
        "id": "4Lz8BdCMN2x7"
      },
      "source": [
        "เราสามารถสั่งให้แสดงอุปกรณ์ย่อยภายในได้โดยเพิ่มอาร์กิวเมนต์ `depth` ดังตัวอย่าง"
      ]
    },
    {
      "cell_type": "code",
      "metadata": {
        "id": "4AJZvBy1N5Yq"
      },
      "source": [
        "interact(Not, depth=1)"
      ],
      "execution_count": null,
      "outputs": []
    },
    {
      "cell_type": "code",
      "metadata": {
        "id": "J0pD-ubkN6yX"
      },
      "source": [
        "interact(C1, depth=2)"
      ],
      "execution_count": null,
      "outputs": []
    },
    {
      "cell_type": "markdown",
      "metadata": {
        "id": "N1rpVL9D_V1b"
      },
      "source": [
        "สำหรับเกทแบบที่มีขาอินพุทแบบหลายบิต ค่าของสัญญาณจะแสดงอยู่ในรูปตัวเลขฐานสิบหก กรณีของอินพุทสามารถคลิกที่ตัวเลขเพื่อป้อนค่าใหม่ได้"
      ]
    },
    {
      "cell_type": "code",
      "metadata": {
        "id": "WWOBVUQr_VRw"
      },
      "source": [
        "interact(Nand2)"
      ],
      "execution_count": null,
      "outputs": []
    },
    {
      "cell_type": "markdown",
      "metadata": {
        "id": "ACqT-Ls-N9h0"
      },
      "source": [
        "## การใช้งานขั้นสูง: Layout Mixin\n",
        "\n",
        "เราสามารถวาดเกทสวย ๆ ได้โดยผสม layout mixin เข้าไปในการนิยามคลาสอุปกรณ์ ไลบรารีสำหรับรายวิชานี้ได้มีการเตรียม layout mixin สำหรับเกทพื้นฐานเช่น Not, And, Or, และ Xor เอาไว้เรียบร้อยแล้วในโมดูล `visual_layouts`"
      ]
    },
    {
      "cell_type": "code",
      "metadata": {
        "id": "eZ3-lBJkOAHy"
      },
      "source": [
        "from compbuilder.visual_layouts import *"
      ],
      "execution_count": null,
      "outputs": []
    },
    {
      "cell_type": "markdown",
      "metadata": {
        "id": "uRmwd5AGqm62"
      },
      "source": [
        "ลองนิยามคลาส `Not` ใหม่อีกรอบโดยดึงเอา `NotLayoutMixin` มาผสมลงไปด้วยดังนี้"
      ]
    },
    {
      "cell_type": "code",
      "metadata": {
        "id": "7qtFz-SiOBru"
      },
      "source": [
        "class Not(NotLayoutMixin, Component):\n",
        "    IN = [w.In]\n",
        "    OUT = [w.out]\n",
        "\n",
        "    PARTS = [\n",
        "        Nand(a=w.In, b=w.In, out=w.out),\n",
        "    ]"
      ],
      "execution_count": null,
      "outputs": []
    },
    {
      "cell_type": "markdown",
      "metadata": {
        "id": "_taBdNCnqy8H"
      },
      "source": [
        "เลย์เอาท์ที่ระบุไว้จะปรากฏในโหมดโต้ตอบกับอุปกรณ์ดังแสดง"
      ]
    },
    {
      "cell_type": "code",
      "metadata": {
        "id": "PMRBRfrPOCre"
      },
      "source": [
        "interact(Not)"
      ],
      "execution_count": null,
      "outputs": []
    },
    {
      "cell_type": "markdown",
      "metadata": {
        "id": "a5O8By6eOEGw"
      },
      "source": [
        "ลองนิยาม `C1` ซ้ำอีกรอบเพื่อให้นำ `Not` ที่ผสมเลย์เอาท์ลงไปแล้วมาใช้งาน"
      ]
    },
    {
      "cell_type": "code",
      "metadata": {
        "id": "kxhE4_m3OFCV"
      },
      "source": [
        "class C1(Component):\n",
        "    IN = [w.x, w.y, w.z]\n",
        "    OUT = [w.out1, w.out2]\n",
        "\n",
        "    PARTS = [\n",
        "        Nand(a=w.x, b=w.y, out=w.c),\n",
        "        Not(In=w.c, out=w.out1),\n",
        "        Nand(a=w.c, b=w.z, out=w.out2),\n",
        "    ]\n",
        "\n",
        "interact(C1,depth=1)"
      ],
      "execution_count": null,
      "outputs": []
    },
    {
      "cell_type": "markdown",
      "metadata": {
        "id": "YLKL_-YnOJm9"
      },
      "source": [
        "เลย์เอาท์ที่เตรียมไว้ให้ตอนนี้มีดังนี้\n",
        "\n",
        "* `NotLayoutMixin`\n",
        "* `AndLayoutMixin`\n",
        "* `OrLayoutMixin`\n",
        "* `XorLayoutMixin`\n",
        "\n",
        "หากต้องการสร้างเลย์เอาท์ขึ้นมาเองให้ศึกษาจากโค้ดในไฟล์ `comp-sys-public-lib/modules/component-builder/compbuilder/visual_layouts.py`"
      ]
    },
    {
      "cell_type": "code",
      "metadata": {
        "id": "7O9paoFmzToH"
      },
      "source": [],
      "execution_count": null,
      "outputs": []
    }
  ]
}